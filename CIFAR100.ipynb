{
 "cells": [
  {
   "cell_type": "code",
   "execution_count": null,
   "metadata": {},
   "outputs": [],
   "source": [
    "import torch \n",
    "import torchvision\n",
    "import matplotlib.pyplot as plt \n",
    "import os \n",
    "import random\n",
    "\n",
    "from PIL import Image\n",
    "from torch import nn \n",
    "try:\n",
    "  from torchinfo import summary\n",
    "except ModuleNotFoundError as e:\n",
    "  print(f\"{e}, Downloading..\")\n",
    "  !pip install torchinfo\n",
    "  from torchinfo import summary\n",
    "from torchvision import transforms\n",
    "from torch.utils.data import DataLoader"
   ]
  },
  {
   "cell_type": "code",
   "execution_count": null,
   "metadata": {},
   "outputs": [],
   "source": [
    "!mkdir \"./data\" \"./data/train\" \"./data/test\" "
   ]
  },
  {
   "cell_type": "code",
   "execution_count": null,
   "metadata": {},
   "outputs": [],
   "source": [
    "BATCH_SIZE = 128\n",
    "NUM_WORKERS = os.cpu_count()\n",
    "\n",
    "train_transforms = transforms.Compose([\n",
    "    transforms.Resize(size=(224, 224)),\n",
    "    transforms.TrivialAugmentWide(num_magnitude_bins=31),\n",
    "    transforms.ToTensor(),\n",
    "    transforms.Normalize(mean=[0.485, 0.456, 0.406],\n",
    "                         std=[0.229, 0.224, 0.225])\n",
    "])\n",
    "\n",
    "test_transforms = transforms.Compose([\n",
    "    transforms.Resize(size=(224,224)),\n",
    "    transforms.ToTensor(),\n",
    "    transforms.Normalize(mean=[0.485, 0.456, 0.406],\n",
    "                         std=[0.229, 0.224, 0.225])\n",
    "])\n",
    "\n",
    "train_data = torchvision.datasets.CIFAR100(root=\"./data/train\",\n",
    "                                     train=True,\n",
    "                                     transform=train_transforms,\n",
    "                                     download=True)\n",
    "\n",
    "test_data = torchvision.datasets.CIFAR100(root=\"./data/test\",\n",
    "                                          train=False,\n",
    "                                          transform=test_transforms,\n",
    "                                          download=True)\n",
    "\n",
    "train_dataloader = DataLoader(dataset=train_data,\n",
    "                              batch_size=BATCH_SIZE,\n",
    "                              num_workers=NUM_WORKERS,\n",
    "                              shuffle=True,\n",
    "                              pin_memory=True,\n",
    "                              generator=torch.Generator(device=\"cpu\"))\n",
    "\n",
    "test_dataloader = DataLoader(dataset=test_data,\n",
    "                             batch_size=BATCH_SIZE,\n",
    "                             num_workers=NUM_WORKERS,\n",
    "                             shuffle=False,\n",
    "                             pin_memory=True,\n",
    "                             generator=torch.Generator(device=\"cpu\"))\n",
    "\n",
    "class_names = train_data.classes\n",
    "\n",
    "len(train_dataloader), len(test_dataloader), class_names"
   ]
  },
  {
   "cell_type": "code",
   "execution_count": null,
   "metadata": {},
   "outputs": [],
   "source": [
    "device = torch.device(\"cuda:0\" if torch.cuda.is_available() else \"cpu\")\n",
    "device"
   ]
  },
  {
   "cell_type": "code",
   "execution_count": null,
   "metadata": {},
   "outputs": [],
   "source": [
    "imgs, labels = next(iter(train_dataloader))\n",
    "imgs.shape, labels.shape"
   ]
  },
  {
   "cell_type": "code",
   "execution_count": null,
   "metadata": {},
   "outputs": [],
   "source": [
    "import random\n",
    "random_imgs = random.sample(range(0, 128), k=5)\n",
    "\n",
    "fig, ax = plt.subplots(nrows=1, ncols=5, sharex=True, sharey=True, figsize=(14,10))\n",
    "for idx, img in enumerate(random_imgs):\n",
    "  ax[idx].imshow(imgs[img].permute(1, 2, 0))\n",
    "  ax[idx].set_title(f\"{class_names[labels[img]]}\")\n",
    "  ax[idx].axis(\"off\");"
   ]
  },
  {
   "cell_type": "code",
   "execution_count": null,
   "metadata": {},
   "outputs": [],
   "source": [
    "model_ft = torchvision.models.resnet50(weights=\"DEFAULT\")\n",
    "for param in model_ft.parameters():\n",
    "  param.requires_grad=False\n",
    "for param in model_ft.layer4.parameters():\n",
    "  param.requires_grad = True\n",
    "in_features = model_ft.fc.in_features\n",
    "model_ft.fc = nn.Linear(in_features, 100)\n",
    "model_ft = model_ft.to(device)\n",
    "loss_fn = nn.CrossEntropyLoss(label_smoothing=0.1)\n",
    "optimizer = torch.optim.Adam(model_ft.parameters(), lr=0.001)\n",
    "\n"
   ]
  },
  {
   "cell_type": "code",
   "execution_count": null,
   "metadata": {},
   "outputs": [],
   "source": [
    "summary(model=model_ft,\n",
    "        input_size=(1, 3, 224, 224), # (batch_size, color_channels, height, width)\n",
    "        col_names=[\"input_size\", \"output_size\", \"num_params\", \"trainable\"],\n",
    "        col_width=20,\n",
    "        row_settings=[\"var_names\"])"
   ]
  },
  {
   "cell_type": "code",
   "execution_count": null,
   "metadata": {},
   "outputs": [],
   "source": [
    "def train_model(model, train_dataloader, test_dataloader, loss_fn, optimizer, num_epochs, device):\n",
    "  results = {\"train_loss\":[],\n",
    "             \"train_acc\":[],\n",
    "             \"test_acc\":[],\n",
    "             \"test_loss\":[]}\n",
    "\n",
    "  for epoch in range(num_epochs):\n",
    "    train_loss, train_acc = 0, 0\n",
    "    model.train()\n",
    "\n",
    "    for batch, (X, y) in enumerate(train_dataloader):\n",
    "      X, y = X.to(device), y.to(device)\n",
    "      y_preds = model(X)\n",
    "      trn_loss = loss_fn(y_preds, y)\n",
    "      train_loss += trn_loss.item()\n",
    "      optimizer.zero_grad()\n",
    "      trn_loss.backward()\n",
    "      optimizer.step()\n",
    "\n",
    "      y_class_preds = torch.argmax(torch.softmax(y_preds, dim=1), dim=1)\n",
    "      train_acc += (y_class_preds==y).sum().item() / len(y_preds)\n",
    "\n",
    "    train_loss = train_loss / len(train_dataloader)\n",
    "    train_acc = train_acc / len(train_dataloader)\n",
    "\n",
    "    test_loss, test_acc = 0, 0\n",
    "    model.eval()\n",
    "    with torch.inference_mode():\n",
    "      for batch, (X, y) in enumerate(test_dataloader):\n",
    "        X, y = X.to(device), y.to(device)\n",
    "        test_preds = model(X)\n",
    "        tst_loss = loss_fn(test_preds, y)\n",
    "        test_loss += tst_loss.item()\n",
    "\n",
    "        test_pred_labels = torch.argmax(test_preds, dim=1)\n",
    "        test_acc += (test_pred_labels == y).sum().item() / len(test_preds)\n",
    "\n",
    "      test_loss = test_loss / len(test_dataloader)\n",
    "      test_acc = test_acc / len(test_dataloader)\n",
    "\n",
    "    print(\n",
    "      f\"Epoch: {epoch+1} | \"\n",
    "      f\"train_loss: {train_loss:.4f} | \"\n",
    "      f\"train_acc: {train_acc:.4f} | \"\n",
    "      f\"test_loss: {test_loss:.4f} | \"\n",
    "      f\"test_acc: {test_acc:.4f}\"\n",
    "      )\n",
    "    results[\"train_loss\"].append(train_loss)\n",
    "    results[\"train_acc\"].append(train_acc)\n",
    "    results[\"test_loss\"].append(test_loss)\n",
    "    results[\"test_acc\"].append(test_acc)\n",
    "  return results"
   ]
  },
  {
   "cell_type": "code",
   "execution_count": null,
   "metadata": {},
   "outputs": [],
   "source": [
    "results = train_model(model=model_ft,\n",
    "                      train_dataloader=train_dataloader,\n",
    "                      test_dataloader=test_dataloader,\n",
    "                      loss_fn=loss_fn,\n",
    "                      optimizer=optimizer,\n",
    "                      num_epochs=10,\n",
    "                      device=device)"
   ]
  },
  {
   "cell_type": "code",
   "execution_count": null,
   "metadata": {},
   "outputs": [],
   "source": [
    "model_ft_with_all_layers_frozen = torchvision.models.resnet50(weights=\"DEFAULT\")\n",
    "for param in model_ft_with_all_layers_frozen.parameters():\n",
    "  param.requires_grad=False\n",
    "in_features = model_ft_with_all_layers_frozen.fc.in_features\n",
    "model_ft_with_all_layers_frozen.fc = nn.Linear(in_features, 100)\n",
    "model_ft_with_all_layers_frozen = model_ft_with_all_layers_frozen.to(device)\n",
    "loss_fn = nn.CrossEntropyLoss(label_smoothing=0.1)\n",
    "optimizer = torch.optim.Adam(model_ft_with_all_layers_frozen.parameters(), lr=0.001)"
   ]
  },
  {
   "cell_type": "code",
   "execution_count": null,
   "metadata": {},
   "outputs": [],
   "source": [
    "summary(model=model_ft_with_all_layers_frozen,\n",
    "        input_size=(1, 3, 224, 224), # (batch_size, color_channels, height, width)\n",
    "        col_names=[\"input_size\", \"output_size\", \"num_params\", \"trainable\"],\n",
    "        col_width=20,\n",
    "        row_settings=[\"var_names\"])"
   ]
  },
  {
   "cell_type": "code",
   "execution_count": null,
   "metadata": {},
   "outputs": [],
   "source": [
    "results_with_all_layers_frozen = train_model(model=model_ft_with_all_layers_frozen,\n",
    "                      train_dataloader=train_dataloader,\n",
    "                      test_dataloader=test_dataloader,\n",
    "                      loss_fn=loss_fn,\n",
    "                      optimizer=optimizer,\n",
    "                      num_epochs=10,\n",
    "                      device=device)"
   ]
  },
  {
   "cell_type": "code",
   "execution_count": null,
   "metadata": {},
   "outputs": [],
   "source": [
    "import pandas as pd \n",
    "df_layer4_unfrozen = pd.DataFrame(results)\n",
    "df_layer4_unfrozen.plot(title=\"CIFAR100 Fine Tuned Results\")"
   ]
  },
  {
   "cell_type": "code",
   "execution_count": null,
   "metadata": {},
   "outputs": [],
   "source": [
    "df_all_frozen = pd.DataFrame(results_with_all_layers_frozen)\n",
    "df_all_frozen.plot(title=\"CIFAR100 Feature Extractor Results\")"
   ]
  }
 ],
 "metadata": {
  "kernelspec": {
   "display_name": "Python 3",
   "language": "python",
   "name": "python3"
  },
  "language_info": {
   "name": "python",
   "version": "3.9.5"
  }
 },
 "nbformat": 4,
 "nbformat_minor": 2
}
